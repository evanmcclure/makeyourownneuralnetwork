{
 "cells": [
  {
   "cell_type": "code",
   "execution_count": 1,
   "metadata": {},
   "outputs": [],
   "source": [
    "// Golang implementation of a single hidden layer feed forward neural network\n",
    "// based on the Python notebook for Make Your Own Neural Network by Tariq Rashid."
   ]
  },
  {
   "cell_type": "code",
   "execution_count": 44,
   "metadata": {},
   "outputs": [],
   "source": [
    "import (\n",
    "    \"encoding/csv\"\n",
    "    \"fmt\"\n",
    "    \"math\"\n",
    "    \"os\"\n",
    "    \"strconv\"\n",
    "    \n",
    "    \"gonum.org/v1/gonum/mat\"\n",
    "    \"gonum.org/v1/gonum/stat/distuv\"\n",
    ")"
   ]
  },
  {
   "cell_type": "code",
   "execution_count": 60,
   "metadata": {},
   "outputs": [],
   "source": [
    "// NewNeuralNetwork creates a `NeuralNetwork`.\n",
    "func NewNeuralNetwork(inputNodes, hiddenNodes, outputNodes int, learningRate float64, activationFunc func(x float64) float64) *NeuralNetwork {\n",
    "    return &NeuralNetwork{\n",
    "        inputNodes:     inputNodes,\n",
    "        hiddenNodes:    hiddenNodes,\n",
    "        outputNodes:    outputNodes,\n",
    "        learningRate:   learningRate,\n",
    "        wih:            newRandomNormalMatrix(hiddenNodes, inputNodes, newNormal(inputNodes)),\n",
    "        who:            newRandomNormalMatrix(outputNodes, hiddenNodes, newNormal(hiddenNodes)),\n",
    "        activationFunc: activationFunc,\n",
    "    }\n",
    "}\n",
    "\n",
    "// newNormal returns a normal (Gaussian) distribution with mean 0.0\n",
    "// and standard deviation of the inverse square root of the number\n",
    "// of incoming nodes n, in order to generate random real number\n",
    "// initial weights in the range from -1/n^1/2 to 1/n^1/2.\n",
    "func newNormal(incomingNodes int) distuv.Normal {\n",
    "    return distuv.Normal{\n",
    "        Mu: 0.0,\n",
    "        Sigma: math.Pow(float64(incomingNodes), -0.5),\n",
    "    }\n",
    "}\n",
    "\n",
    "// newRandomNormalMatrix returns a rows x cols matrix of weights\n",
    "// initialized from the given normal distribution.\n",
    "func newRandomNormalMatrix(rows, cols int, dist distuv.Normal) mat.Matrix {\n",
    "    data := make([]float64, rows * cols)\n",
    "    for i := 0; i < len(data); i++ {\n",
    "        data[i] = dist.Rand()\n",
    "    }\n",
    "    \n",
    "    return mat.NewDense(rows, cols, data)\n",
    "}\n",
    "\n",
    "// NeuralNetwork is a single hidden layer feed forward neural network with backpropogation.\n",
    "type NeuralNetwork struct {\n",
    "    inputNodes     int\n",
    "    hiddenNodes    int\n",
    "    outputNodes    int\n",
    "    learningRate   float64\n",
    "    wih            mat.Matrix  // Field `wih` is the link weight matrix from input nodes to hidden nodes.\n",
    "    who            mat.Matrix  // Field `who` is the link weight matrix from hidden nodes to output nodes.\n",
    "    activationFunc func(x float64) float64\n",
    "}\n",
    "\n",
    "func (n *NeuralNetwork) Train(inputs, outputs []float64) {\n",
    "}\n",
    "\n",
    "func (n *NeuralNetwork) Query(inputsList []float64) []float64 {\n",
    "    return nil\n",
    "}"
   ]
  },
  {
   "cell_type": "code",
   "execution_count": 29,
   "metadata": {},
   "outputs": [],
   "source": [
    "const (\n",
    "    inputNodes   = 784\n",
    "    hiddenNodes  = 200\n",
    "    outputNodes  = 10\n",
    "    learningRate = 0.1\n",
    "    epochs       = 5\n",
    ")\n",
    "\n",
    "activationFunc := func(x float64) float64 {\n",
    "    // The activation function is the sigmoid function. That is,\n",
    "    // f(x) = 1 / 1 + e^-x\n",
    "    return 1.0 / (1.0 + math.Exp(-x))\n",
    "}\n",
    "\n",
    "n := NewNeuralNetwork(inputNodes, hiddenNodes, outputNodes, learningRate, activationFunc)"
   ]
  },
  {
   "cell_type": "code",
   "execution_count": 22,
   "metadata": {},
   "outputs": [
    {
     "name": "stdout",
     "output_type": "stream",
     "text": [
      "label[0]: 5\n"
     ]
    },
    {
     "data": {
      "text/plain": [
       "12 <nil>"
      ]
     },
     "execution_count": 22,
     "metadata": {},
     "output_type": "execute_result"
    }
   ],
   "source": [
    "// Load the MNIST training data CSV file into a list.\n",
    "\n",
    "func readAllCSV(path string) (records [][]string, err error) {\n",
    "    file, err := os.Open(\"mnist_dataset/mnist_train_100.csv\")\n",
    "    if err != nil {\n",
    "        return\n",
    "    }\n",
    "    \n",
    "    defer file.Close()\n",
    "\n",
    "    csvFile := csv.NewReader(file)\n",
    "    records, err = csvFile.ReadAll()\n",
    "    return\n",
    "}\n",
    "\n",
    "trainData, err := readAllCSV(\"mnist_dataset/mnist_train_100.csv\")\n",
    "if err != nil {\n",
    "    panic(err)\n",
    "}"
   ]
  },
  {
   "cell_type": "code",
   "execution_count": 63,
   "metadata": {},
   "outputs": [],
   "source": [
    "// Train the neural network for n epochs.\n",
    "\n",
    "func trainRecord(record []string) {\n",
    "    // The first element is the actual label.\n",
    "    data := record[1:]\n",
    "\n",
    "    // Rescale the input color values from [0, 255] to [0.01, 1.0].\n",
    "    inputs := make([]float64, len(data))\n",
    "    for i, c := range data {\n",
    "        d, _ := strconv.Atoi(c)\n",
    "        inputs[i] = (float64(d) / 255.0 * 0.99) + 0.01\n",
    "    }\n",
    "\n",
    "    // Initialize the target output nodes with the smallest (non-zero) value from the range [0.1, 0.99].\n",
    "    targets := make([]float64, outputNodes)\n",
    "    for i := 0; i < len(targets); i++ {\n",
    "        targets[i] = 0.1\n",
    "    }\n",
    "\n",
    "    // Set the actual target for this training record with the highest value from the range [0.1, 0.99].\n",
    "    label, _ := strconv.Atoi(record[0])\n",
    "    targets[label] = 0.99\n",
    "\n",
    "    n.Train(inputs, targets)\n",
    "}\n",
    "\n",
    "// for i := 0; i < epochs; i++ {\n",
    "for i := 0; i < 1; i++ {\n",
    "    for _, record := range trainData {\n",
    "        trainRecord(record)\n",
    "    }\n",
    "}"
   ]
  },
  {
   "cell_type": "code",
   "execution_count": 25,
   "metadata": {},
   "outputs": [
    {
     "name": "stdout",
     "output_type": "stream",
     "text": [
      "label[0]: 5\n"
     ]
    },
    {
     "data": {
      "text/plain": [
       "12 <nil>"
      ]
     },
     "execution_count": 25,
     "metadata": {},
     "output_type": "execute_result"
    }
   ],
   "source": [
    "// Load the MNIST test data CSV file into a list.\n",
    "\n",
    "testData, err := readAllCSV(\"mnist_dataset/mnist_test_10.csv\")\n",
    "if err != nil {\n",
    "    panic(err)\n",
    "}"
   ]
  },
  {
   "cell_type": "code",
   "execution_count": 8,
   "metadata": {},
   "outputs": [],
   "source": [
    "// Test the neural network using a scorecard."
   ]
  },
  {
   "cell_type": "code",
   "execution_count": 9,
   "metadata": {},
   "outputs": [],
   "source": [
    "// The performance score is the fraction of correct answers,\n",
    "// which will be computed and printed."
   ]
  }
 ],
 "metadata": {
  "kernelspec": {
   "display_name": "Go",
   "language": "go",
   "name": "gophernotes"
  },
  "language_info": {
   "codemirror_mode": "",
   "file_extension": ".go",
   "mimetype": "",
   "name": "go",
   "nbconvert_exporter": "",
   "pygments_lexer": "",
   "version": "go1.12.5"
  }
 },
 "nbformat": 4,
 "nbformat_minor": 2
}
